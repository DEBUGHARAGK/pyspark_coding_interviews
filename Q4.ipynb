{
 "cells": [
  {
   "cell_type": "markdown",
   "metadata": {},
   "source": [
    "tennis players and grand slams"
   ]
  },
  {
   "cell_type": "code",
   "execution_count": 1,
   "metadata": {},
   "outputs": [],
   "source": [
    "from pyspark.sql import SparkSession\n",
    "from pyspark.sql.functions import *\n",
    "\n",
    "# Initialize SparkSession\n",
    "spark = SparkSession.builder.appName(\"tennis\").getOrCreate()"
   ]
  },
  {
   "cell_type": "code",
   "execution_count": 3,
   "metadata": {},
   "outputs": [
    {
     "name": "stdout",
     "output_type": "stream",
     "text": [
      "+---------+-----------+\n",
      "|player_id|player_name|\n",
      "+---------+-----------+\n",
      "|        1|      Nadal|\n",
      "|        2|    Federer|\n",
      "|        3|      Novak|\n",
      "+---------+-----------+\n",
      "\n"
     ]
    }
   ],
   "source": [
    "players_data = [\n",
    "    (1, \"Nadal\"),\n",
    "    (2, \"Federer\"),\n",
    "    (3, \"Novak\")\n",
    "]\n",
    "\n",
    "players_columns = [\"player_id\",\"player_name\"]\n",
    "\n",
    "players_df = spark.createDataFrame(players_data,players_columns)\n",
    "players_df.show()"
   ]
  },
  {
   "cell_type": "code",
   "execution_count": 16,
   "metadata": {},
   "outputs": [
    {
     "name": "stdout",
     "output_type": "stream",
     "text": [
      "+----+---------+-------+-------+-------+\n",
      "|year|Wimbledon|Fr_open|US_open|Au_open|\n",
      "+----+---------+-------+-------+-------+\n",
      "|2017|        2|      1|      1|      2|\n",
      "|2018|        3|      1|      3|      2|\n",
      "|2019|        3|      1|      1|      3|\n",
      "+----+---------+-------+-------+-------+\n",
      "\n"
     ]
    }
   ],
   "source": [
    "championships_data = [\n",
    "    (2017, 2, 1, 1, 2),\n",
    "    (2018, 3, 1, 3, 2),\n",
    "    (2019, 3, 1, 1, 3)\n",
    "]\n",
    "\n",
    "championships_columns= ['year','Wimbledon', 'Fr_open', 'US_open', 'Au_open']\n",
    "\n",
    "championships_df = spark.createDataFrame(championships_data,championships_columns)\n",
    "\n",
    "championships_df.show()\n"
   ]
  },
  {
   "cell_type": "markdown",
   "metadata": {},
   "source": [
    "SQL APPROACH "
   ]
  },
  {
   "cell_type": "code",
   "execution_count": 8,
   "metadata": {},
   "outputs": [],
   "source": [
    "players_df.createOrReplaceTempView(\"players\")\n",
    "championships_df.createOrReplaceTempView(\"championships\")"
   ]
  },
  {
   "cell_type": "code",
   "execution_count": 9,
   "metadata": {},
   "outputs": [],
   "source": [
    "query = \"\"\"\n",
    "SELECT p.player_id, p.player_name,\n",
    "    SUM(\n",
    "        CASE WHEN c.Wimbledon = p.player_id THEN 1 ELSE 0 END +\n",
    "        CASE WHEN c.Fr_open = p.player_id THEN 1 ELSE 0 END +\n",
    "        CASE WHEN c.US_open = p.player_id THEN 1 ELSE 0 END +\n",
    "        CASE WHEN c.Au_open = p.player_id THEN 1 ELSE 0 END\n",
    "    ) AS grand_slams_count\n",
    "FROM players p\n",
    "JOIN championships c ON c.Wimbledon = p.player_id OR c.Fr_open = p.player_id OR c.US_open = p.player_id OR c.Au_open = p.player_id\n",
    "GROUP BY 1, 2\n",
    "ORDER BY player_id DESC;\n",
    " \"\"\"\n"
   ]
  },
  {
   "cell_type": "code",
   "execution_count": 10,
   "metadata": {},
   "outputs": [
    {
     "name": "stdout",
     "output_type": "stream",
     "text": [
      "+---------+-----------+-----------------+\n",
      "|player_id|player_name|grand_slams_count|\n",
      "+---------+-----------+-----------------+\n",
      "|        3|      Novak|                4|\n",
      "|        2|    Federer|                3|\n",
      "|        1|      Nadal|                5|\n",
      "+---------+-----------+-----------------+\n",
      "\n"
     ]
    }
   ],
   "source": [
    "\n",
    "result = spark.sql(query)\n",
    "\n",
    "result.show()"
   ]
  },
  {
   "cell_type": "markdown",
   "metadata": {},
   "source": [
    "Pyspark code continuation"
   ]
  },
  {
   "cell_type": "code",
   "execution_count": 17,
   "metadata": {},
   "outputs": [
    {
     "name": "stdout",
     "output_type": "stream",
     "text": [
      "+----+------+\n",
      "|year|player|\n",
      "+----+------+\n",
      "|2017|     2|\n",
      "|2018|     3|\n",
      "|2019|     3|\n",
      "|2017|     1|\n",
      "|2018|     1|\n",
      "|2019|     1|\n",
      "|2017|     1|\n",
      "|2018|     3|\n",
      "|2019|     1|\n",
      "|2017|     2|\n",
      "|2018|     2|\n",
      "|2019|     3|\n",
      "+----+------+\n",
      "\n"
     ]
    }
   ],
   "source": [
    "cte1 = (championships_df.select('year',col('Wimbledon').alias('player'))\\\n",
    "                        .unionAll(championships_df.select('year',col('Fr_open').alias('player')))\\\n",
    "                        .unionAll(championships_df.select('year',col('US_open').alias('player')))\\\n",
    "                        .unionAll(championships_df.select('year',col('Au_open').alias('player'))))\n",
    "\n",
    "cte1.show()                      "
   ]
  },
  {
   "cell_type": "markdown",
   "metadata": {},
   "source": [
    "aggregate and join to get expected output"
   ]
  },
  {
   "cell_type": "code",
   "execution_count": 19,
   "metadata": {},
   "outputs": [
    {
     "name": "stdout",
     "output_type": "stream",
     "text": [
      "+------+-----------------+\n",
      "|player|grand_slams_count|\n",
      "+------+-----------------+\n",
      "|     2|                3|\n",
      "|     3|                4|\n",
      "|     1|                5|\n",
      "+------+-----------------+\n",
      "\n"
     ]
    }
   ],
   "source": [
    "cte2 = cte1.groupBy('player').agg(count('*').alias('grand_slams_count'))\n",
    "\n",
    "cte2.show()\n",
    "                                   "
   ]
  },
  {
   "cell_type": "markdown",
   "metadata": {},
   "source": [
    "join operations"
   ]
  },
  {
   "cell_type": "code",
   "execution_count": 20,
   "metadata": {},
   "outputs": [
    {
     "name": "stdout",
     "output_type": "stream",
     "text": [
      "+---------+-----------+-----------------+\n",
      "|player_id|player_name|grand_slams_count|\n",
      "+---------+-----------+-----------------+\n",
      "|        1|      Nadal|                5|\n",
      "|        2|    Federer|                3|\n",
      "|        3|      Novak|                4|\n",
      "+---------+-----------+-----------------+\n",
      "\n"
     ]
    }
   ],
   "source": [
    "result_df = cte2.join(players_df,cte2.player==players_df.player_id,\"inner\")\\\n",
    "                .select('player_id','player_name','grand_slams_count')\n",
    "\n",
    "result_df.show()"
   ]
  }
 ],
 "metadata": {
  "kernelspec": {
   "display_name": "Python 3",
   "language": "python",
   "name": "python3"
  },
  "language_info": {
   "codemirror_mode": {
    "name": "ipython",
    "version": 3
   },
   "file_extension": ".py",
   "mimetype": "text/x-python",
   "name": "python",
   "nbconvert_exporter": "python",
   "pygments_lexer": "ipython3",
   "version": "3.11.0"
  }
 },
 "nbformat": 4,
 "nbformat_minor": 2
}
