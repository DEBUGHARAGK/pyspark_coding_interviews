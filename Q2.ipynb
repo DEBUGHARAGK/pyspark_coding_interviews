{
 "cells": [
  {
   "cell_type": "code",
   "execution_count": 1,
   "metadata": {},
   "outputs": [],
   "source": [
    "from pyspark.sql import SparkSession\n",
    "spark = SparkSession.builder.appName(\"shift_students\").getOrCreate()"
   ]
  },
  {
   "cell_type": "code",
   "execution_count": 2,
   "metadata": {},
   "outputs": [
    {
     "name": "stdout",
     "output_type": "stream",
     "text": [
      "+---+-------+\n",
      "| id|student|\n",
      "+---+-------+\n",
      "|  1|  Alice|\n",
      "|  2|    Bob|\n",
      "|  3|Charlie|\n",
      "|  4|  David|\n",
      "|  5|    Eve|\n",
      "+---+-------+\n",
      "\n"
     ]
    }
   ],
   "source": [
    "# Create input data\n",
    "data = [\n",
    "    (1, 'Alice'),\n",
    "    (2, 'Bob'),\n",
    "    (3, 'Charlie'),\n",
    "    (4, 'David'),\n",
    "    (5, 'Eve')\n",
    "]\n",
    "\n",
    "# Define schema\n",
    "schema = [\"id\", \"student\"]\n",
    "\n",
    "# Create DataFrame\n",
    "df = spark.createDataFrame(data, schema)\n",
    "\n",
    "# Register DataFrame as a temporary view\n",
    "df.createOrReplaceTempView(\"students\")\n",
    "\n",
    "df.show()"
   ]
  },
  {
   "cell_type": "markdown",
   "metadata": {},
   "source": [
    "find previous and next student using lad and lead functions"
   ]
  },
  {
   "cell_type": "code",
   "execution_count": 4,
   "metadata": {},
   "outputs": [
    {
     "name": "stdout",
     "output_type": "stream",
     "text": [
      "+---+-------+------------+------------+\n",
      "| id|student|prev_student|next_student|\n",
      "+---+-------+------------+------------+\n",
      "|  1|  Alice|        null|         Bob|\n",
      "|  2|    Bob|       Alice|     Charlie|\n",
      "|  3|Charlie|         Bob|       David|\n",
      "|  4|  David|     Charlie|         Eve|\n",
      "|  5|    Eve|       David|        null|\n",
      "+---+-------+------------+------------+\n",
      "\n"
     ]
    }
   ],
   "source": [
    "from pyspark.sql import Window\n",
    "from pyspark.sql.functions import *\n",
    "exchange_df = df.withColumn(\"prev_student\",lag(\"student\").over(Window.orderBy('id')))\n",
    "exchange_df = exchange_df.withColumn(\"next_student\",lead(\"student\").over(Window.orderBy('id')))\n",
    "\n",
    "exchange_df.show()"
   ]
  },
  {
   "cell_type": "markdown",
   "metadata": {},
   "source": [
    "Exchange code based on even odd logic"
   ]
  },
  {
   "cell_type": "code",
   "execution_count": 6,
   "metadata": {},
   "outputs": [],
   "source": [
    "exchange_df = exchange_df.withColumn('exchange_seating',\n",
    "                                     when(exchange_df['id']%2 == 1,coalesce(exchange_df['next_student'],exchange_df['student']))\n",
    "                                     .when(exchange_df['id']%2 == 0,coalesce(exchange_df['prev_student'],exchange_df['student']))\n",
    "                                     .otherwise(exchange_df['student']))\n"
   ]
  },
  {
   "cell_type": "code",
   "execution_count": 7,
   "metadata": {},
   "outputs": [
    {
     "name": "stdout",
     "output_type": "stream",
     "text": [
      "+---+-------+------------+------------+----------------+\n",
      "| id|student|prev_student|next_student|exchange_seating|\n",
      "+---+-------+------------+------------+----------------+\n",
      "|  1|  Alice|        null|         Bob|             Bob|\n",
      "|  2|    Bob|       Alice|     Charlie|           Alice|\n",
      "|  3|Charlie|         Bob|       David|           David|\n",
      "|  4|  David|     Charlie|         Eve|         Charlie|\n",
      "|  5|    Eve|       David|        null|             Eve|\n",
      "+---+-------+------------+------------+----------------+\n",
      "\n"
     ]
    }
   ],
   "source": [
    "exchange_df.show()"
   ]
  },
  {
   "cell_type": "code",
   "execution_count": 8,
   "metadata": {},
   "outputs": [
    {
     "name": "stdout",
     "output_type": "stream",
     "text": [
      "+---+----------------+----------------+\n",
      "| id|original_seating|exchange_seating|\n",
      "+---+----------------+----------------+\n",
      "|  1|           Alice|             Bob|\n",
      "|  2|             Bob|           Alice|\n",
      "|  3|         Charlie|           David|\n",
      "|  4|           David|         Charlie|\n",
      "|  5|             Eve|             Eve|\n",
      "+---+----------------+----------------+\n",
      "\n"
     ]
    }
   ],
   "source": [
    "exchange_df = exchange_df.withColumnRenamed(\"student\",\"original_seating\").drop('prev_student','next_student')\n",
    "\n",
    "exchange_df.show()"
   ]
  },
  {
   "cell_type": "markdown",
   "metadata": {},
   "source": [
    "code in spark sql"
   ]
  },
  {
   "cell_type": "code",
   "execution_count": 9,
   "metadata": {},
   "outputs": [],
   "source": [
    "df.createOrReplaceTempView(\"students\")\n",
    "\n"
   ]
  },
  {
   "cell_type": "code",
   "execution_count": 11,
   "metadata": {},
   "outputs": [],
   "source": [
    "query = \"\"\" SELECT \n",
    "    id, \n",
    "    student AS Original_seating,\n",
    "    CASE\n",
    "        WHEN id % 2 = 1 THEN COALESCE(LEAD(student) OVER (ORDER BY id), student)\n",
    "        WHEN id % 2 = 0 THEN COALESCE(LAG(student) OVER (ORDER BY id), student)\n",
    "        ELSE student\n",
    "    END AS Exchanged_seating\n",
    "FROM students\n",
    "\"\"\""
   ]
  },
  {
   "cell_type": "code",
   "execution_count": 12,
   "metadata": {},
   "outputs": [
    {
     "name": "stdout",
     "output_type": "stream",
     "text": [
      "+---+----------------+-----------------+\n",
      "| id|Original_seating|Exchanged_seating|\n",
      "+---+----------------+-----------------+\n",
      "|  1|           Alice|              Bob|\n",
      "|  2|             Bob|            Alice|\n",
      "|  3|         Charlie|            David|\n",
      "|  4|           David|          Charlie|\n",
      "|  5|             Eve|              Eve|\n",
      "+---+----------------+-----------------+\n",
      "\n"
     ]
    }
   ],
   "source": [
    "# Execute the query and get the result\n",
    "result = spark.sql(query)\n",
    "\n",
    "# Show the result\n",
    "result.show()"
   ]
  }
 ],
 "metadata": {
  "kernelspec": {
   "display_name": "Python 3",
   "language": "python",
   "name": "python3"
  },
  "language_info": {
   "codemirror_mode": {
    "name": "ipython",
    "version": 3
   },
   "file_extension": ".py",
   "mimetype": "text/x-python",
   "name": "python",
   "nbconvert_exporter": "python",
   "pygments_lexer": "ipython3",
   "version": "3.11.0"
  }
 },
 "nbformat": 4,
 "nbformat_minor": 2
}
