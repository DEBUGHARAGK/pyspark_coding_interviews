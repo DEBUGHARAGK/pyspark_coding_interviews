{
 "cells": [
  {
   "cell_type": "code",
   "execution_count": 5,
   "metadata": {},
   "outputs": [],
   "source": [
    "from pyspark.sql import SparkSession\n",
    "from pyspark.sql.functions import *\n",
    "from pyspark.sql.window import Window\n",
    "from pyspark.sql.functions import rank,dense_rank"
   ]
  },
  {
   "cell_type": "code",
   "execution_count": 7,
   "metadata": {},
   "outputs": [],
   "source": [
    "spark = SparkSession.builder.appName('emp-high-sal-dept').getOrCreate()"
   ]
  },
  {
   "cell_type": "code",
   "execution_count": 8,
   "metadata": {},
   "outputs": [
    {
     "name": "stdout",
     "output_type": "stream",
     "text": [
      "+-----+-------+------+--------+\n",
      "|EmpId|EmpName|Salary|DeptName|\n",
      "+-----+-------+------+--------+\n",
      "|    1|      A|  1000|      IT|\n",
      "|    2|      B|  1500|      IT|\n",
      "|    3|      C|  2500|      IT|\n",
      "|    4|      D|  3000|      HR|\n",
      "|    5|      E|  2000|      HR|\n",
      "|    6|      F|  1000|      HR|\n",
      "|    7|      G|  4000|   Sales|\n",
      "|    8|      H|  4000|   Sales|\n",
      "|    9|      I|  1000|   Sales|\n",
      "|   10|      J|  2000|   Sales|\n",
      "+-----+-------+------+--------+\n",
      "\n"
     ]
    }
   ],
   "source": [
    "data = [\n",
    "    (1, \"A\", 1000, \"IT\"),\n",
    "    (2, \"B\", 1500, \"IT\"),\n",
    "    (3, \"C\", 2500, \"IT\"),\n",
    "    (4, \"D\", 3000, \"HR\"),\n",
    "    (5, \"E\", 2000, \"HR\"),\n",
    "    (6, \"F\", 1000, \"HR\"),\n",
    "    (7, \"G\", 4000, \"Sales\"),\n",
    "    (8, \"H\", 4000, \"Sales\"),\n",
    "    (9, \"I\", 1000, \"Sales\"),\n",
    "    (10, \"J\", 2000, \"Sales\")\n",
    "]\n",
    "schema = [\"EmpId\", \"EmpName\", \"Salary\", \"DeptName\"]\n",
    "\n",
    "df = spark.createDataFrame(data,schema)\n",
    "\n",
    "df.show()"
   ]
  },
  {
   "cell_type": "code",
   "execution_count": 10,
   "metadata": {},
   "outputs": [],
   "source": [
    "window = Window.partitionBy('DeptName').orderBy(col('Salary').desc())"
   ]
  },
  {
   "cell_type": "code",
   "execution_count": 11,
   "metadata": {},
   "outputs": [
    {
     "name": "stdout",
     "output_type": "stream",
     "text": [
      "+-----+-------+------+--------+----+\n",
      "|EmpId|EmpName|Salary|DeptName|rank|\n",
      "+-----+-------+------+--------+----+\n",
      "|    4|      D|  3000|      HR|   1|\n",
      "|    5|      E|  2000|      HR|   2|\n",
      "|    6|      F|  1000|      HR|   3|\n",
      "|    3|      C|  2500|      IT|   1|\n",
      "|    2|      B|  1500|      IT|   2|\n",
      "|    1|      A|  1000|      IT|   3|\n",
      "|    7|      G|  4000|   Sales|   1|\n",
      "|    8|      H|  4000|   Sales|   1|\n",
      "|   10|      J|  2000|   Sales|   2|\n",
      "|    9|      I|  1000|   Sales|   3|\n",
      "+-----+-------+------+--------+----+\n",
      "\n"
     ]
    }
   ],
   "source": [
    "df1 = df.withColumn('rank', dense_rank().over(window))\n",
    "\n",
    "df1.show()"
   ]
  },
  {
   "cell_type": "code",
   "execution_count": 12,
   "metadata": {},
   "outputs": [
    {
     "name": "stdout",
     "output_type": "stream",
     "text": [
      "+-----+-------+------+--------+----+\n",
      "|EmpId|EmpName|Salary|DeptName|rank|\n",
      "+-----+-------+------+--------+----+\n",
      "|    4|      D|  3000|      HR|   1|\n",
      "|    3|      C|  2500|      IT|   1|\n",
      "|    7|      G|  4000|   Sales|   1|\n",
      "|    8|      H|  4000|   Sales|   1|\n",
      "+-----+-------+------+--------+----+\n",
      "\n"
     ]
    }
   ],
   "source": [
    "df1.where(col('rank')==1).show()"
   ]
  },
  {
   "cell_type": "code",
   "execution_count": 13,
   "metadata": {},
   "outputs": [
    {
     "name": "stdout",
     "output_type": "stream",
     "text": [
      "+-----+-------+------+--------+----+\n",
      "|EmpId|EmpName|Salary|DeptName|rank|\n",
      "+-----+-------+------+--------+----+\n",
      "|    4|      D|  3000|      HR|   1|\n",
      "|    3|      C|  2500|      IT|   1|\n",
      "|    7|      G|  4000|   Sales|   1|\n",
      "|    8|      H|  4000|   Sales|   1|\n",
      "+-----+-------+------+--------+----+\n",
      "\n"
     ]
    }
   ],
   "source": [
    "df1.filter(col('rank')==1).show()"
   ]
  }
 ],
 "metadata": {
  "kernelspec": {
   "display_name": "Python 3",
   "language": "python",
   "name": "python3"
  },
  "language_info": {
   "codemirror_mode": {
    "name": "ipython",
    "version": 3
   },
   "file_extension": ".py",
   "mimetype": "text/x-python",
   "name": "python",
   "nbconvert_exporter": "python",
   "pygments_lexer": "ipython3",
   "version": "3.11.0"
  }
 },
 "nbformat": 4,
 "nbformat_minor": 2
}
