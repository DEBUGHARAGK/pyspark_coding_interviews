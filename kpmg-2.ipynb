{
 "cells": [
  {
   "cell_type": "code",
   "execution_count": 1,
   "metadata": {},
   "outputs": [],
   "source": [
    "from pyspark.sql import SparkSession"
   ]
  },
  {
   "cell_type": "code",
   "execution_count": 7,
   "metadata": {},
   "outputs": [],
   "source": [
    "spark = SparkSession.builder \\\n",
    "        .appName(\"kpmg-2\") \\\n",
    "        .getOrCreate()"
   ]
  },
  {
   "cell_type": "code",
   "execution_count": 8,
   "metadata": {},
   "outputs": [
    {
     "name": "stdout",
     "output_type": "stream",
     "text": [
      "+-----+-----+---------+\n",
      "|city1|city2|    city3|\n",
      "+-----+-----+---------+\n",
      "|  Goa|     |       AP|\n",
      "|     |   AP|     null|\n",
      "| null|     |Bangalore|\n",
      "+-----+-----+---------+\n",
      "\n"
     ]
    }
   ],
   "source": [
    "data = [('Goa','','AP'),('','AP',None),(None,'','Bangalore')]\n",
    "columns = ['city1','city2','city3']\n",
    "\n",
    "df = spark.createDataFrame(data,columns)\n",
    "\n",
    "df.show()\n",
    "\n"
   ]
  },
  {
   "cell_type": "code",
   "execution_count": 9,
   "metadata": {},
   "outputs": [],
   "source": [
    "from pyspark.sql.functions import col,when,coalesce"
   ]
  },
  {
   "cell_type": "code",
   "execution_count": 12,
   "metadata": {},
   "outputs": [
    {
     "name": "stdout",
     "output_type": "stream",
     "text": [
      "+-----+-----+---------+--------------+\n",
      "|city1|city2|    city3|first_non_null|\n",
      "+-----+-----+---------+--------------+\n",
      "|  Goa|     |       AP|           Goa|\n",
      "|     |   AP|     null|            AP|\n",
      "| null|     |Bangalore|     Bangalore|\n",
      "+-----+-----+---------+--------------+\n",
      "\n"
     ]
    }
   ],
   "source": [
    "df_output = df.withColumn('first_non_null',\n",
    "              coalesce(\n",
    "              when(col('city1')=='',None).otherwise(col('city1')),\n",
    "              when(col('city2')=='',None).otherwise(col('city2')),\n",
    "              when(col('city3')=='',None).otherwise(col('city3'))\n",
    "                      )\n",
    "             )\n",
    "\n",
    "df_output.show()                            "
   ]
  }
 ],
 "metadata": {
  "kernelspec": {
   "display_name": "Python 3",
   "language": "python",
   "name": "python3"
  },
  "language_info": {
   "codemirror_mode": {
    "name": "ipython",
    "version": 3
   },
   "file_extension": ".py",
   "mimetype": "text/x-python",
   "name": "python",
   "nbconvert_exporter": "python",
   "pygments_lexer": "ipython3",
   "version": "3.11.0"
  }
 },
 "nbformat": 4,
 "nbformat_minor": 2
}
