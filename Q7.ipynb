{
 "cells": [
  {
   "cell_type": "code",
   "execution_count": 1,
   "metadata": {},
   "outputs": [],
   "source": [
    "from pyspark.sql import SparkSession\n",
    "from pyspark.sql.functions import col, countDistinct\n",
    "\n",
    "# Initialize Spark session\n",
    "spark = SparkSession.builder.appName(\"CustomersPurchasedAllProducts\").getOrCreate()"
   ]
  },
  {
   "cell_type": "code",
   "execution_count": 2,
   "metadata": {},
   "outputs": [],
   "source": [
    "# Sample data for Products Table\n",
    "products_data = [\n",
    "    (5,),\n",
    "    (6,)\n",
    "]\n",
    "\n",
    "# Sample data for Customers Table\n",
    "customers_data = [\n",
    "    (1, 5),\n",
    "    (2, 6),\n",
    "    (3, 5),\n",
    "    (3, 6),\n",
    "    (1, 6)\n",
    "]\n"
   ]
  },
  {
   "cell_type": "code",
   "execution_count": 3,
   "metadata": {},
   "outputs": [],
   "source": [
    "# Create DataFrames\n",
    "products_df = spark.createDataFrame(products_data, [\"product_key\"])\n",
    "customers_df = spark.createDataFrame(customers_data, [\"customer_id\", \"product_key\"])"
   ]
  },
  {
   "cell_type": "code",
   "execution_count": 4,
   "metadata": {},
   "outputs": [
    {
     "name": "stdout",
     "output_type": "stream",
     "text": [
      "+-----------+\n",
      "|product_key|\n",
      "+-----------+\n",
      "|          5|\n",
      "|          6|\n",
      "+-----------+\n",
      "\n"
     ]
    }
   ],
   "source": [
    "products_df.show()"
   ]
  },
  {
   "cell_type": "code",
   "execution_count": 5,
   "metadata": {},
   "outputs": [
    {
     "name": "stdout",
     "output_type": "stream",
     "text": [
      "+-----------+-----------+\n",
      "|customer_id|product_key|\n",
      "+-----------+-----------+\n",
      "|          1|          5|\n",
      "|          2|          6|\n",
      "|          3|          5|\n",
      "|          3|          6|\n",
      "|          1|          6|\n",
      "+-----------+-----------+\n",
      "\n"
     ]
    }
   ],
   "source": [
    "customers_df.show()"
   ]
  },
  {
   "cell_type": "code",
   "execution_count": 6,
   "metadata": {},
   "outputs": [
    {
     "name": "stdout",
     "output_type": "stream",
     "text": [
      "+-----------+\n",
      "|customer_id|\n",
      "+-----------+\n",
      "|          1|\n",
      "|          3|\n",
      "+-----------+\n",
      "\n"
     ]
    }
   ],
   "source": [
    "# Count the total number of distinct products\n",
    "total_products_count = products_df.count()\n",
    "\n",
    "# Count the number of distinct products each customer has purchased\n",
    "customer_product_count_df = (customers_df\n",
    "                              .groupBy(\"customer_id\")\n",
    "                              .agg(countDistinct(\"product_key\").alias(\"product_count\")))\n",
    "\n",
    "# Find customers who bought all products\n",
    "result_df = customer_product_count_df.filter(col(\"product_count\") == total_products_count)\n",
    "\n",
    "# Show the result\n",
    "result_df.select(\"customer_id\").show()"
   ]
  },
  {
   "cell_type": "markdown",
   "metadata": {},
   "source": [
    "SPARK SQL METHOD"
   ]
  },
  {
   "cell_type": "code",
   "execution_count": 7,
   "metadata": {},
   "outputs": [],
   "source": [
    "# Register DataFrames as SQL temporary views\n",
    "products_df.createOrReplaceTempView(\"Products\")\n",
    "customers_df.createOrReplaceTempView(\"Customers\")"
   ]
  },
  {
   "cell_type": "code",
   "execution_count": 8,
   "metadata": {},
   "outputs": [],
   "source": [
    "# SQL query to find customers who bought all products\n",
    "query = \"\"\"\n",
    "SELECT customer_id\n",
    "FROM Customers\n",
    "GROUP BY customer_id\n",
    "HAVING COUNT(DISTINCT product_key) = (SELECT COUNT(*) FROM Products)\n",
    "\"\"\""
   ]
  },
  {
   "cell_type": "code",
   "execution_count": 9,
   "metadata": {},
   "outputs": [
    {
     "name": "stdout",
     "output_type": "stream",
     "text": [
      "+-----------+\n",
      "|customer_id|\n",
      "+-----------+\n",
      "|          1|\n",
      "|          3|\n",
      "+-----------+\n",
      "\n"
     ]
    }
   ],
   "source": [
    "# Execute the query and show the result\n",
    "result_df = spark.sql(query)\n",
    "result_df.show()"
   ]
  }
 ],
 "metadata": {
  "kernelspec": {
   "display_name": "Python 3",
   "language": "python",
   "name": "python3"
  },
  "language_info": {
   "codemirror_mode": {
    "name": "ipython",
    "version": 3
   },
   "file_extension": ".py",
   "mimetype": "text/x-python",
   "name": "python",
   "nbconvert_exporter": "python",
   "pygments_lexer": "ipython3",
   "version": "3.11.0"
  }
 },
 "nbformat": 4,
 "nbformat_minor": 2
}
