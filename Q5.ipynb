{
 "cells": [
  {
   "cell_type": "code",
   "execution_count": 1,
   "metadata": {},
   "outputs": [],
   "source": [
    "from pyspark.sql import SparkSession\n",
    "from pyspark.sql.functions import col\n",
    "\n",
    "# Initialize Spark session\n",
    "spark = SparkSession.builder.appName(\"EmployeeComparison\").getOrCreate()"
   ]
  },
  {
   "cell_type": "code",
   "execution_count": 2,
   "metadata": {},
   "outputs": [
    {
     "name": "stdout",
     "output_type": "stream",
     "text": [
      "+---+-----+------+---------+\n",
      "| Id| Name|Salary|ManagerId|\n",
      "+---+-----+------+---------+\n",
      "|  1|  Joe| 70000|        3|\n",
      "|  2|Henry| 80000|        4|\n",
      "|  3|  Sam| 60000|     null|\n",
      "|  4|  Max| 90000|     null|\n",
      "+---+-----+------+---------+\n",
      "\n"
     ]
    }
   ],
   "source": [
    "# Sample data\n",
    "data = [\n",
    "    (1, 'Joe', 70000, 3),\n",
    "    (2, 'Henry', 80000, 4),\n",
    "    (3, 'Sam', 60000, None),\n",
    "    (4, 'Max', 90000, None)\n",
    "]\n",
    "\n",
    "columns = ['Id', 'Name', 'Salary', 'ManagerId']\n",
    "\n",
    "df = spark.createDataFrame(data,columns)\n",
    "\n",
    "df.show()"
   ]
  },
  {
   "cell_type": "code",
   "execution_count": 3,
   "metadata": {},
   "outputs": [],
   "source": [
    "df.createOrReplaceTempView('employee')"
   ]
  },
  {
   "cell_type": "code",
   "execution_count": 4,
   "metadata": {},
   "outputs": [],
   "source": [
    "query = \"\"\"\n",
    "SELECT e1.Id, e1.Name, e1.Salary AS EmployeeSalary, e2.Name AS ManagerName, e2.Salary AS ManagerSalary\n",
    "FROM Employee e1\n",
    "JOIN Employee e2 ON e1.ManagerId = e2.Id\n",
    "WHERE e1.Salary > e2.Salary;\n",
    " \"\"\""
   ]
  },
  {
   "cell_type": "code",
   "execution_count": 5,
   "metadata": {},
   "outputs": [
    {
     "name": "stdout",
     "output_type": "stream",
     "text": [
      "+---+----+--------------+-----------+-------------+\n",
      "| Id|Name|EmployeeSalary|ManagerName|ManagerSalary|\n",
      "+---+----+--------------+-----------+-------------+\n",
      "|  1| Joe|         70000|        Sam|        60000|\n",
      "+---+----+--------------+-----------+-------------+\n",
      "\n"
     ]
    }
   ],
   "source": [
    "result = spark.sql(query)\n",
    "result.show()"
   ]
  },
  {
   "cell_type": "markdown",
   "metadata": {},
   "source": [
    "in Pyspark"
   ]
  },
  {
   "cell_type": "code",
   "execution_count": 6,
   "metadata": {},
   "outputs": [],
   "source": [
    "# Perform the self-join\n",
    "e1 = df.alias('e1')\n",
    "e2 = df.alias('e2')"
   ]
  },
  {
   "cell_type": "code",
   "execution_count": 11,
   "metadata": {},
   "outputs": [
    {
     "name": "stdout",
     "output_type": "stream",
     "text": [
      "+---+-----+------+---------+---+----+------+---------+\n",
      "| Id| Name|Salary|ManagerId| Id|Name|Salary|ManagerId|\n",
      "+---+-----+------+---------+---+----+------+---------+\n",
      "|  1|  Joe| 70000|        3|  3| Sam| 60000|     null|\n",
      "|  2|Henry| 80000|        4|  4| Max| 90000|     null|\n",
      "+---+-----+------+---------+---+----+------+---------+\n",
      "\n"
     ]
    }
   ],
   "source": [
    "join_df = df.alias('employee').join(df.alias('manager'),\n",
    "                                    col('employee.ManagerId')==col('manager.Id'),'inner'\n",
    "                                    )\n",
    "join_df.show()"
   ]
  },
  {
   "cell_type": "code",
   "execution_count": 12,
   "metadata": {},
   "outputs": [
    {
     "name": "stdout",
     "output_type": "stream",
     "text": [
      "+---+----+------+---------+---+----+------+---------+\n",
      "| Id|Name|Salary|ManagerId| Id|Name|Salary|ManagerId|\n",
      "+---+----+------+---------+---+----+------+---------+\n",
      "|  1| Joe| 70000|        3|  3| Sam| 60000|     null|\n",
      "+---+----+------+---------+---+----+------+---------+\n",
      "\n"
     ]
    }
   ],
   "source": [
    "filter_df = join_df.filter(col('employee.Salary')>col('manager.Salary'))\n",
    "filter_df.show()"
   ]
  }
 ],
 "metadata": {
  "kernelspec": {
   "display_name": "Python 3",
   "language": "python",
   "name": "python3"
  },
  "language_info": {
   "codemirror_mode": {
    "name": "ipython",
    "version": 3
   },
   "file_extension": ".py",
   "mimetype": "text/x-python",
   "name": "python",
   "nbconvert_exporter": "python",
   "pygments_lexer": "ipython3",
   "version": "3.11.0"
  }
 },
 "nbformat": 4,
 "nbformat_minor": 2
}
