{
 "cells": [
  {
   "cell_type": "code",
   "execution_count": 1,
   "metadata": {},
   "outputs": [],
   "source": [
    "from pyspark.sql import SparkSession\n",
    "from pyspark.sql.functions import *\n"
   ]
  },
  {
   "cell_type": "code",
   "execution_count": 2,
   "metadata": {},
   "outputs": [],
   "source": [
    "spark = SparkSession.builder.appName('StudentMarks').getOrCreate()"
   ]
  },
  {
   "cell_type": "code",
   "execution_count": 3,
   "metadata": {},
   "outputs": [],
   "source": [
    "# Create the Student DataFrame\n",
    "student_data = [\n",
    "    (1, \"Steve\"),\n",
    "    (2, \"David\"),\n",
    "    (3, \"Aryan\")\n",
    "]\n",
    "student_df = spark.createDataFrame(student_data, [\"Student_id\", \"Student_name\"])\n",
    "\n",
    "# Create the Subject DataFrame\n",
    "subject_data = [\n",
    "    (1, \"pyspark\", 90),\n",
    "    (1, \"sql\", 100),\n",
    "    (2, \"sql\", 70),\n",
    "    (2, \"pyspark\", 60),\n",
    "    (3, \"sql\", 30),\n",
    "    (3, \"pyspark\", 20)\n",
    "]\n",
    "subject_df = spark.createDataFrame(subject_data, [\"Student_id\", \"Subject_Name\", \"Marks\"])"
   ]
  },
  {
   "cell_type": "code",
   "execution_count": 4,
   "metadata": {},
   "outputs": [
    {
     "name": "stdout",
     "output_type": "stream",
     "text": [
      "+----------+------------+-----+\n",
      "|Student_id|Subject_Name|Marks|\n",
      "+----------+------------+-----+\n",
      "|         1|     pyspark|   90|\n",
      "|         1|         sql|  100|\n",
      "|         2|         sql|   70|\n",
      "|         2|     pyspark|   60|\n",
      "|         3|         sql|   30|\n",
      "|         3|     pyspark|   20|\n",
      "+----------+------------+-----+\n",
      "\n",
      "+----------+------------+\n",
      "|Student_id|Student_name|\n",
      "+----------+------------+\n",
      "|         1|       Steve|\n",
      "|         2|       David|\n",
      "|         3|       Aryan|\n",
      "+----------+------------+\n",
      "\n"
     ]
    }
   ],
   "source": [
    "subject_df.show()\n",
    "\n",
    "student_df.show()"
   ]
  },
  {
   "cell_type": "code",
   "execution_count": 5,
   "metadata": {},
   "outputs": [],
   "source": [
    "join_df = student_df.join(subject_df, on = 'Student_id', how='Inner')\n",
    "\n"
   ]
  },
  {
   "cell_type": "code",
   "execution_count": 6,
   "metadata": {},
   "outputs": [
    {
     "name": "stdout",
     "output_type": "stream",
     "text": [
      "+----------+------------+------------+-----+\n",
      "|Student_id|Student_name|Subject_Name|Marks|\n",
      "+----------+------------+------------+-----+\n",
      "|         1|       Steve|     pyspark|   90|\n",
      "|         1|       Steve|         sql|  100|\n",
      "|         2|       David|         sql|   70|\n",
      "|         2|       David|     pyspark|   60|\n",
      "|         3|       Aryan|         sql|   30|\n",
      "|         3|       Aryan|     pyspark|   20|\n",
      "+----------+------------+------------+-----+\n",
      "\n"
     ]
    }
   ],
   "source": [
    "join_df.show()"
   ]
  },
  {
   "cell_type": "code",
   "execution_count": 7,
   "metadata": {},
   "outputs": [
    {
     "name": "stdout",
     "output_type": "stream",
     "text": [
      "+----------+------------+----------+------+\n",
      "|Student_id|Student_name|Percentage|Result|\n",
      "+----------+------------+----------+------+\n",
      "|         1|       Steve|      0.95|  Fail|\n",
      "|         2|       David|      0.65|  Fail|\n",
      "|         3|       Aryan|      0.25|  Fail|\n",
      "+----------+------------+----------+------+\n",
      "\n"
     ]
    }
   ],
   "source": [
    "join_df.groupBy(col('Student_id'),col('student_name')).agg\n",
    "\n",
    "# Calculate the percentage and result\n",
    "result_df = join_df.groupBy(\"Student_id\", \"Student_name\") \\\n",
    "    .agg(\n",
    "        (sum(\"Marks\") / (count(\"Subject_Name\") * 100)).alias(\"Percentage\"),\n",
    "        when(sum(\"Marks\") / (count(\"Subject_Name\") * 100) >= 70, \"Distinction\")\n",
    "        .when(sum(\"Marks\") / (count(\"Subject_Name\") * 100) >= 60, \"First Class\")\n",
    "        .when(sum(\"Marks\") / (count(\"Subject_Name\") * 100) >= 50, \"Second Class\")\n",
    "        .when(sum(\"Marks\") / (count(\"Subject_Name\") * 100) >= 40, \"Third Class\")\n",
    "        .otherwise(\"Fail\").alias(\"Result\")\n",
    "    )\n",
    "\n",
    "result_df.show()\n",
    "\n"
   ]
  }
 ],
 "metadata": {
  "kernelspec": {
   "display_name": "Python 3",
   "language": "python",
   "name": "python3"
  },
  "language_info": {
   "codemirror_mode": {
    "name": "ipython",
    "version": 3
   },
   "file_extension": ".py",
   "mimetype": "text/x-python",
   "name": "python",
   "nbconvert_exporter": "python",
   "pygments_lexer": "ipython3",
   "version": "3.11.0"
  }
 },
 "nbformat": 4,
 "nbformat_minor": 2
}
