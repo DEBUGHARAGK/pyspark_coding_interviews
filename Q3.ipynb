{
 "cells": [
  {
   "cell_type": "markdown",
   "metadata": {},
   "source": [
    "Number of Calls and Total Duration"
   ]
  },
  {
   "cell_type": "code",
   "execution_count": 9,
   "metadata": {},
   "outputs": [],
   "source": [
    "from pyspark.sql import SparkSession\n",
    "from pyspark.sql.functions import *\n",
    "\n",
    "# Initialize SparkSession\n",
    "spark = SparkSession.builder.appName(\"CallAggregation\").getOrCreate()"
   ]
  },
  {
   "cell_type": "code",
   "execution_count": 10,
   "metadata": {},
   "outputs": [],
   "source": [
    "data = [\n",
    "    (10, 20, 58),\n",
    "    (20, 10, 12),\n",
    "    (10, 30, 20),\n",
    "    (30, 40, 100),\n",
    "    (30, 40, 200),\n",
    "    (30, 40, 200),\n",
    "    (40, 30, 500)\n",
    "]\n",
    "\n",
    "columns = [\"from_id\", \"to_id\", \"duration\"]\n",
    "calls_df = spark.createDataFrame(data, columns)"
   ]
  },
  {
   "cell_type": "code",
   "execution_count": 11,
   "metadata": {},
   "outputs": [
    {
     "name": "stdout",
     "output_type": "stream",
     "text": [
      "+-------+-----+--------+\n",
      "|from_id|to_id|duration|\n",
      "+-------+-----+--------+\n",
      "|     10|   20|      58|\n",
      "|     20|   10|      12|\n",
      "|     10|   30|      20|\n",
      "|     30|   40|     100|\n",
      "|     30|   40|     200|\n",
      "|     30|   40|     200|\n",
      "|     40|   30|     500|\n",
      "+-------+-----+--------+\n",
      "\n"
     ]
    }
   ],
   "source": [
    "calls_df.show()"
   ]
  },
  {
   "cell_type": "code",
   "execution_count": 12,
   "metadata": {},
   "outputs": [],
   "source": [
    "calls_df.createOrReplaceTempView(\"calls\")"
   ]
  },
  {
   "cell_type": "code",
   "execution_count": 6,
   "metadata": {},
   "outputs": [],
   "source": [
    "query = \"\"\"\n",
    "WITH StandardizedCalls AS (\n",
    "    SELECT\n",
    "        CASE\n",
    "            WHEN from_id < to_id THEN from_id\n",
    "            ELSE to_id\n",
    "        END AS Person1,\n",
    "        CASE\n",
    "            WHEN from_id > to_id THEN from_id\n",
    "            ELSE to_id\n",
    "        END AS Person2,\n",
    "        duration\n",
    "    FROM\n",
    "        calls\n",
    ")\n",
    "SELECT\n",
    "    Person1,\n",
    "    Person2,\n",
    "    COUNT(*) AS call_count,\n",
    "    SUM(duration) AS total_duration\n",
    "FROM\n",
    "    StandardizedCalls\n",
    "GROUP BY\n",
    "    Person1,\n",
    "    Person2\n",
    "ORDER BY\n",
    "    Person1,\n",
    "    Person2\n",
    "    \"\"\""
   ]
  },
  {
   "cell_type": "code",
   "execution_count": 7,
   "metadata": {},
   "outputs": [
    {
     "name": "stdout",
     "output_type": "stream",
     "text": [
      "+-------+-------+----------+--------------+\n",
      "|Person1|Person2|call_count|total_duration|\n",
      "+-------+-------+----------+--------------+\n",
      "|     10|     20|         2|            70|\n",
      "|     10|     30|         1|            20|\n",
      "|     30|     40|         4|          1000|\n",
      "+-------+-------+----------+--------------+\n",
      "\n"
     ]
    }
   ],
   "source": [
    "# Execute the query and get the result\n",
    "result = spark.sql(query)\n",
    "\n",
    "# Show the result\n",
    "result.show()"
   ]
  },
  {
   "cell_type": "markdown",
   "metadata": {},
   "source": [
    "using pyspark approach"
   ]
  },
  {
   "cell_type": "code",
   "execution_count": null,
   "metadata": {},
   "outputs": [],
   "source": [
    "from pyspark.sql.window import *"
   ]
  },
  {
   "cell_type": "code",
   "execution_count": 13,
   "metadata": {},
   "outputs": [],
   "source": [
    "swap_df = calls_df.withColumn(\n",
    "    \"Person1\", when(col(\"from_id\") < col(\"to_id\"), col(\"from_id\")).otherwise(col(\"to_id\"))\n",
    ").withColumn(\n",
    "    \"Person2\", when(col(\"from_id\") > col(\"to_id\"), col(\"from_id\")).otherwise(col(\"to_id\"))\n",
    ").select(\"Person1\",\"Person2\",\"duration\")"
   ]
  },
  {
   "cell_type": "code",
   "execution_count": 14,
   "metadata": {},
   "outputs": [
    {
     "name": "stdout",
     "output_type": "stream",
     "text": [
      "+-------+-------+--------+\n",
      "|Person1|Person2|duration|\n",
      "+-------+-------+--------+\n",
      "|     10|     20|      58|\n",
      "|     10|     20|      12|\n",
      "|     10|     30|      20|\n",
      "|     30|     40|     100|\n",
      "|     30|     40|     200|\n",
      "|     30|     40|     200|\n",
      "|     30|     40|     500|\n",
      "+-------+-------+--------+\n",
      "\n"
     ]
    }
   ],
   "source": [
    "swap_df.show()"
   ]
  },
  {
   "cell_type": "code",
   "execution_count": 17,
   "metadata": {},
   "outputs": [],
   "source": [
    "final_df = swap_df.groupBy(col(\"Person1\"),col(\"Person2\"))\\\n",
    "                  .agg(sum(col('duration')).alias('total_duration'),count(col('Person1')).alias('call_count'))\\\n",
    "                  .select('Person1','Person2','call_count','total_duration')"
   ]
  },
  {
   "cell_type": "code",
   "execution_count": 18,
   "metadata": {},
   "outputs": [
    {
     "name": "stdout",
     "output_type": "stream",
     "text": [
      "+-------+-------+----------+--------------+\n",
      "|Person1|Person2|call_count|total_duration|\n",
      "+-------+-------+----------+--------------+\n",
      "|     10|     20|         2|            70|\n",
      "|     10|     30|         1|            20|\n",
      "|     30|     40|         4|          1000|\n",
      "+-------+-------+----------+--------------+\n",
      "\n"
     ]
    }
   ],
   "source": [
    "final_df.show()"
   ]
  }
 ],
 "metadata": {
  "kernelspec": {
   "display_name": "Python 3",
   "language": "python",
   "name": "python3"
  },
  "language_info": {
   "codemirror_mode": {
    "name": "ipython",
    "version": 3
   },
   "file_extension": ".py",
   "mimetype": "text/x-python",
   "name": "python",
   "nbconvert_exporter": "python",
   "pygments_lexer": "ipython3",
   "version": "3.11.0"
  }
 },
 "nbformat": 4,
 "nbformat_minor": 2
}
