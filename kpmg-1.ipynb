{
 "cells": [
  {
   "cell_type": "code",
   "execution_count": 2,
   "metadata": {},
   "outputs": [],
   "source": [
    "from pyspark.sql import SparkSession"
   ]
  },
  {
   "cell_type": "code",
   "execution_count": 5,
   "metadata": {},
   "outputs": [],
   "source": [
    "spark = SparkSession.builder \\\n",
    "    .appName(\"KPMG-1\") \\\n",
    "    .getOrCreate()"
   ]
  },
  {
   "cell_type": "code",
   "execution_count": 7,
   "metadata": {},
   "outputs": [
    {
     "name": "stdout",
     "output_type": "stream",
     "text": [
      "+-----+----------------+\n",
      "| Name|         Hobbies|\n",
      "+-----+----------------+\n",
      "|Alice|Badminton,Tennis|\n",
      "|  Bob|  Tennis,Cricket|\n",
      "|Julie| Cricket,Carroms|\n",
      "+-----+----------------+\n",
      "\n"
     ]
    }
   ],
   "source": [
    "data = [\n",
    "    ('Alice', 'Badminton,Tennis'),\n",
    "    ('Bob', 'Tennis,Cricket'),\n",
    "    ('Julie', 'Cricket,Carroms')\n",
    "]\n",
    "\n",
    "columns = ['Name','Hobbies']\n",
    "\n",
    "df = spark.createDataFrame(data,columns)\n",
    "\n",
    "df.show()"
   ]
  },
  {
   "cell_type": "code",
   "execution_count": 10,
   "metadata": {},
   "outputs": [],
   "source": [
    "from pyspark.sql.functions import col,explode,split"
   ]
  },
  {
   "cell_type": "code",
   "execution_count": 9,
   "metadata": {},
   "outputs": [
    {
     "name": "stdout",
     "output_type": "stream",
     "text": [
      "+-----+----------------+\n",
      "| name|         Hobbies|\n",
      "+-----+----------------+\n",
      "|Alice|Badminton,Tennis|\n",
      "|  Bob|  Tennis,Cricket|\n",
      "|Julie| Cricket,Carroms|\n",
      "+-----+----------------+\n",
      "\n"
     ]
    }
   ],
   "source": [
    "df.select(col('name'),col('Hobbies')).show()"
   ]
  },
  {
   "cell_type": "code",
   "execution_count": 11,
   "metadata": {},
   "outputs": [
    {
     "name": "stdout",
     "output_type": "stream",
     "text": [
      "+-----+---------------------+\n",
      "| name|split(Hobbies, ,, -1)|\n",
      "+-----+---------------------+\n",
      "|Alice|  [Badminton, Tennis]|\n",
      "|  Bob|    [Tennis, Cricket]|\n",
      "|Julie|   [Cricket, Carroms]|\n",
      "+-----+---------------------+\n",
      "\n"
     ]
    }
   ],
   "source": [
    "df.select(col('name'),split(col('Hobbies'),',')).show()"
   ]
  },
  {
   "cell_type": "code",
   "execution_count": 13,
   "metadata": {},
   "outputs": [
    {
     "name": "stdout",
     "output_type": "stream",
     "text": [
      "+-----+---------+\n",
      "| name|    Hobby|\n",
      "+-----+---------+\n",
      "|Alice|Badminton|\n",
      "|Alice|   Tennis|\n",
      "|  Bob|   Tennis|\n",
      "|  Bob|  Cricket|\n",
      "|Julie|  Cricket|\n",
      "|Julie|  Carroms|\n",
      "+-----+---------+\n",
      "\n"
     ]
    }
   ],
   "source": [
    "df.select(col('name'),explode(split(col('Hobbies'),',')).alias('Hobby')).show()"
   ]
  }
 ],
 "metadata": {
  "kernelspec": {
   "display_name": "Python 3",
   "language": "python",
   "name": "python3"
  },
  "language_info": {
   "codemirror_mode": {
    "name": "ipython",
    "version": 3
   },
   "file_extension": ".py",
   "mimetype": "text/x-python",
   "name": "python",
   "nbconvert_exporter": "python",
   "pygments_lexer": "ipython3",
   "version": "3.11.0"
  }
 },
 "nbformat": 4,
 "nbformat_minor": 2
}
