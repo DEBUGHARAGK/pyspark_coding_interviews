{
 "cells": [
  {
   "cell_type": "code",
   "execution_count": 1,
   "metadata": {},
   "outputs": [],
   "source": [
    "from pyspark.sql import SparkSession\n",
    "from pyspark.sql.functions import *\n",
    "\n",
    "# Create a SparkSession\n",
    "spark = SparkSession.builder.appName(\"EmployeeData\").getOrCreate() "
   ]
  },
  {
   "cell_type": "code",
   "execution_count": 2,
   "metadata": {},
   "outputs": [
    {
     "name": "stdout",
     "output_type": "stream",
     "text": [
      "+-----------+-------------+-----------+------+\n",
      "|employee_id|employee_name| department|salary|\n",
      "+-----------+-------------+-----------+------+\n",
      "|          1|        Alice|         HR| 60000|\n",
      "|          2|          Bob|         HR| 50000|\n",
      "|          3|      Charlie|    Finance| 70000|\n",
      "|          4|        David|    Finance| 75000|\n",
      "|          5|          Eve|Engineering| 90000|\n",
      "|          6|        Frank|Engineering| 93000|\n",
      "|          7|        Grace|         HR| 45000|\n",
      "|          8|         Hank|Engineering| 98000|\n",
      "|          9|          Ivy|    Finance| 66000|\n",
      "+-----------+-------------+-----------+------+\n",
      "\n"
     ]
    }
   ],
   "source": [
    "# Sample data for employees\n",
    "data = [\n",
    "    (1, \"Alice\", \"HR\", 60000),\n",
    "    (2, \"Bob\", \"HR\", 50000),\n",
    "    (3, \"Charlie\", \"Finance\", 70000),\n",
    "    (4, \"David\", \"Finance\", 75000),\n",
    "    (5, \"Eve\", \"Engineering\", 90000),\n",
    "    (6, \"Frank\", \"Engineering\", 93000),\n",
    "    (7, \"Grace\", \"HR\", 45000),\n",
    "    (8, \"Hank\", \"Engineering\", 98000),\n",
    "    (9, \"Ivy\", \"Finance\", 66000)\n",
    "]\n",
    "\n",
    "# Define column names for the DataFrame\n",
    "columns = [\"employee_id\", \"employee_name\", \"department\", \"salary\"]\n",
    "\n",
    "# Create the DataFrame\n",
    "df = spark.createDataFrame(data, columns)\n",
    "\n",
    "df.show()"
   ]
  },
  {
   "cell_type": "code",
   "execution_count": 3,
   "metadata": {},
   "outputs": [
    {
     "name": "stdout",
     "output_type": "stream",
     "text": [
      "+-----------+-------------+-----------+------+------------------+\n",
      "|employee_id|employee_name| department|salary|        avg_salary|\n",
      "+-----------+-------------+-----------+------+------------------+\n",
      "|          5|          Eve|Engineering| 90000| 93666.66666666667|\n",
      "|          6|        Frank|Engineering| 93000| 93666.66666666667|\n",
      "|          8|         Hank|Engineering| 98000| 93666.66666666667|\n",
      "|          3|      Charlie|    Finance| 70000| 70333.33333333333|\n",
      "|          4|        David|    Finance| 75000| 70333.33333333333|\n",
      "|          9|          Ivy|    Finance| 66000| 70333.33333333333|\n",
      "|          1|        Alice|         HR| 60000|51666.666666666664|\n",
      "|          2|          Bob|         HR| 50000|51666.666666666664|\n",
      "|          7|        Grace|         HR| 45000|51666.666666666664|\n",
      "+-----------+-------------+-----------+------+------------------+\n",
      "\n"
     ]
    }
   ],
   "source": [
    "from pyspark.sql.window import Window\n",
    "\n",
    "window_spec = Window.partitionBy('department')\n",
    "\n",
    "win_df = df.withColumn('avg_salary',avg(col('salary')).over(window_spec))\n",
    "\n",
    "win_df.show()"
   ]
  },
  {
   "cell_type": "code",
   "execution_count": 4,
   "metadata": {},
   "outputs": [
    {
     "name": "stdout",
     "output_type": "stream",
     "text": [
      "+-----------+-------------+-----------+------+------------------+\n",
      "|employee_id|employee_name| department|salary|        avg_salary|\n",
      "+-----------+-------------+-----------+------+------------------+\n",
      "|          8|         Hank|Engineering| 98000| 93666.66666666667|\n",
      "|          4|        David|    Finance| 75000| 70333.33333333333|\n",
      "|          1|        Alice|         HR| 60000|51666.666666666664|\n",
      "+-----------+-------------+-----------+------+------------------+\n",
      "\n"
     ]
    }
   ],
   "source": [
    "result_df = win_df.filter(col('salary')>col('avg_salary'))\n",
    "\n",
    "result_df.show()"
   ]
  },
  {
   "cell_type": "markdown",
   "metadata": {},
   "source": [
    "SQL approach"
   ]
  },
  {
   "cell_type": "code",
   "execution_count": 5,
   "metadata": {},
   "outputs": [],
   "source": [
    "df.createOrReplaceTempView(\"employee\")"
   ]
  },
  {
   "cell_type": "code",
   "execution_count": 6,
   "metadata": {},
   "outputs": [],
   "source": [
    "query = \"\"\"\n",
    "        with cte as (\n",
    "        select e.*,avg(salary) over(partition by department) as avg_sal from employee e )\n",
    "        select * from cte where salary > avg_sal;\n",
    " \"\"\""
   ]
  },
  {
   "cell_type": "code",
   "execution_count": 7,
   "metadata": {},
   "outputs": [
    {
     "name": "stdout",
     "output_type": "stream",
     "text": [
      "+-----------+-------------+-----------+------+------------------+\n",
      "|employee_id|employee_name| department|salary|           avg_sal|\n",
      "+-----------+-------------+-----------+------+------------------+\n",
      "|          8|         Hank|Engineering| 98000| 93666.66666666667|\n",
      "|          4|        David|    Finance| 75000| 70333.33333333333|\n",
      "|          1|        Alice|         HR| 60000|51666.666666666664|\n",
      "+-----------+-------------+-----------+------+------------------+\n",
      "\n"
     ]
    }
   ],
   "source": [
    "result_sql_df = spark.sql(query)\n",
    "result_sql_df.show()"
   ]
  }
 ],
 "metadata": {
  "kernelspec": {
   "display_name": "Python 3",
   "language": "python",
   "name": "python3"
  },
  "language_info": {
   "codemirror_mode": {
    "name": "ipython",
    "version": 3
   },
   "file_extension": ".py",
   "mimetype": "text/x-python",
   "name": "python",
   "nbconvert_exporter": "python",
   "pygments_lexer": "ipython3",
   "version": "3.11.0"
  }
 },
 "nbformat": 4,
 "nbformat_minor": 2
}
